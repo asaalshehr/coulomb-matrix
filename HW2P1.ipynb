{
 "cells": [
  {
   "cell_type": "code",
   "execution_count": 63,
   "metadata": {
    "nbgrader": {
     "grade": false,
     "locked": false,
     "solution": false
    }
   },
   "outputs": [],
   "source": [
    "import numpy as np\n",
    "import scipy\n",
    "import pandas as pd\n",
    "data = pd.read_csv('hyp_test_pred.csv', header=None)\n",
    "data.columns = ['y','ha','hb']"
   ]
  },
  {
   "cell_type": "code",
   "execution_count": 64,
   "metadata": {},
   "outputs": [
    {
     "name": "stdout",
     "output_type": "stream",
     "text": [
      "The actual error of hypothesis A, hA:10.5263%\n",
      "The actual error of hypothesis B, hB:12.6316%\n",
      "The 95% confidence interval of hypothsis A is[2.4816%, 18.5710%]\n",
      "The 95% confidence interval of hypothsis B is[4.5869%, 20.6763%]\n"
     ]
    }
   ],
   "source": [
    "#Part a\n",
    "#The sample error\n",
    "m =len(data['y'])\n",
    "#For hA\n",
    "errs_A=1/m *(sum(abs(data['y']-data['ha'])))\n",
    "errs_B=1/m *(sum(abs(data['y']-data['hb'])))\n",
    "print('The actual error of hypothesis A, hA:{:.4f}%'.format(errs_A*100))\n",
    "print('The actual error of hypothesis B, hB:{:.4f}%'.format(errs_B*100))\n",
    "# Confidance intervals:\n",
    "#The square root term does not change\n",
    "#95% confidnace interval\n",
    "delta=1-0.95\n",
    "sqt=np.sqrt(np.log(2/delta)/(2*m))\n",
    "print('The 95% confidence interval of hypothsis A is[{:.4f}%, {:.4f}%]'.format((errs_A -sqt)*100,(errs_A +sqt)*100))\n",
    "print('The 95% confidence interval of hypothsis B is[{:.4f}%, {:.4f}%]'.format((errs_B -sqt)*100,(errs_B +sqt)*100))"
   ]
  },
  {
   "cell_type": "code",
   "execution_count": 65,
   "metadata": {},
   "outputs": [
    {
     "name": "stdout",
     "output_type": "stream",
     "text": [
      "hB_true   0    1\n",
      "hA_true         \n",
      "0        21    9\n",
      "1        15  240\n"
     ]
    }
   ],
   "source": [
    "#Part b \n",
    "data['hA_true'] = np.where(data['y'] == data['ha'],1, 0)\n",
    "data['hB_true'] = np.where(data['y'] == data['hb'],1, 0)\n",
    "tab1 = pd.crosstab(data['hA_true'], data['hB_true'])\n",
    "print(tab1)\n"
   ]
  },
  {
   "cell_type": "code",
   "execution_count": 49,
   "metadata": {},
   "outputs": [
    {
     "name": "stdout",
     "output_type": "stream",
     "text": [
      "177\n"
     ]
    }
   ],
   "source": []
  },
  {
   "cell_type": "code",
   "execution_count": null,
   "metadata": {},
   "outputs": [],
   "source": []
  }
 ],
 "metadata": {
  "anaconda-cloud": {},
  "kernelspec": {
   "display_name": "Python 3",
   "language": "python",
   "name": "python3"
  },
  "language_info": {
   "codemirror_mode": {
    "name": "ipython",
    "version": 3
   },
   "file_extension": ".py",
   "mimetype": "text/x-python",
   "name": "python",
   "nbconvert_exporter": "python",
   "pygments_lexer": "ipython3",
   "version": "3.7.3"
  }
 },
 "nbformat": 4,
 "nbformat_minor": 1
}
